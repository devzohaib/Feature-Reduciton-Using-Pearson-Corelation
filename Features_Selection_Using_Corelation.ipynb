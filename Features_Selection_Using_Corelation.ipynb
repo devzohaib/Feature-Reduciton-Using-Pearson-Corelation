{
  "nbformat": 4,
  "nbformat_minor": 0,
  "metadata": {
    "colab": {
      "name": "Features Selection Using Corelation.ipynb",
      "provenance": [],
      "authorship_tag": "ABX9TyOr1LdBsMzyRSzJpOMWVs+l",
      "include_colab_link": true
    },
    "kernelspec": {
      "name": "python3",
      "display_name": "Python 3"
    }
  },
  "cells": [
    {
      "cell_type": "markdown",
      "metadata": {
        "id": "view-in-github",
        "colab_type": "text"
      },
      "source": [
        "<a href=\"https://colab.research.google.com/github/devzohaib/Feature-Reduciton-Using-Pearson-Corelation/blob/master/Features_Selection_Using_Corelation.ipynb\" target=\"_parent\"><img src=\"https://colab.research.google.com/assets/colab-badge.svg\" alt=\"Open In Colab\"/></a>"
      ]
    },
    {
      "cell_type": "markdown",
      "metadata": {
        "id": "fEB-AT2UbrAf"
      },
      "source": [
        "# Feature Selection - How to drop features using Corelation\n",
        "\n",
        "In this tutorial we will be removing the features that are highly corelated.In simple terms, let's suppose if we have 2 features X and Y , if X is increasing and Y is also increasing this means that both features are corelated. How much related? we will see this "
      ]
    },
    {
      "cell_type": "code",
      "metadata": {
        "id": "B3ZK68uUbVrM"
      },
      "source": [
        "# Importing the data set and libraries\n",
        "\n",
        "from sklearn.datasets import load_boston\n",
        "import pandas as pd\n",
        "import matplotlib.pyplot as plt\n"
      ],
      "execution_count": 1,
      "outputs": []
    },
    {
      "cell_type": "markdown",
      "metadata": {
        "id": "Yegxep15pilp"
      },
      "source": [
        "[load_boston() sklearn dataset doc](https://scikit-learn.org/stable/modules/generated/sklearn.datasets.load_boston.html#sklearn.datasets.load_boston)"
      ]
    },
    {
      "cell_type": "code",
      "metadata": {
        "id": "4Ht5bNnkc4Gr",
        "outputId": "e8eceae8-982e-4776-9914-84e4f83c0aae",
        "colab": {
          "base_uri": "https://localhost:8080/"
        }
      },
      "source": [
        "_data = load_boston()\n",
        "type(_data)"
      ],
      "execution_count": 2,
      "outputs": [
        {
          "output_type": "execute_result",
          "data": {
            "text/plain": [
              "sklearn.utils.Bunch"
            ]
          },
          "metadata": {
            "tags": []
          },
          "execution_count": 2
        }
      ]
    },
    {
      "cell_type": "markdown",
      "metadata": {
        "id": "zN91eoP_dowO"
      },
      "source": [
        "Bunch objects are sometimes used as an output for functions and methods. They extend dictionaries by enabling values to be accessed by key, bunch[\"value_key\"], or by an attribute, bunch.value_key."
      ]
    },
    {
      "cell_type": "code",
      "metadata": {
        "id": "oq6lF5EFeDnD",
        "outputId": "e89dc251-9c9b-464e-8540-2e1b95b891b5",
        "colab": {
          "base_uri": "https://localhost:8080/",
          "height": 202
        }
      },
      "source": [
        "# Loading the dataset into DataFrame\n",
        "\n",
        "df = pd.DataFrame(_data.data,columns=_data.feature_names)\n",
        "df['TARGET'] = _data.target\n",
        "df.head()\n"
      ],
      "execution_count": 5,
      "outputs": [
        {
          "output_type": "execute_result",
          "data": {
            "text/html": [
              "<div>\n",
              "<style scoped>\n",
              "    .dataframe tbody tr th:only-of-type {\n",
              "        vertical-align: middle;\n",
              "    }\n",
              "\n",
              "    .dataframe tbody tr th {\n",
              "        vertical-align: top;\n",
              "    }\n",
              "\n",
              "    .dataframe thead th {\n",
              "        text-align: right;\n",
              "    }\n",
              "</style>\n",
              "<table border=\"1\" class=\"dataframe\">\n",
              "  <thead>\n",
              "    <tr style=\"text-align: right;\">\n",
              "      <th></th>\n",
              "      <th>CRIM</th>\n",
              "      <th>ZN</th>\n",
              "      <th>INDUS</th>\n",
              "      <th>CHAS</th>\n",
              "      <th>NOX</th>\n",
              "      <th>RM</th>\n",
              "      <th>AGE</th>\n",
              "      <th>DIS</th>\n",
              "      <th>RAD</th>\n",
              "      <th>TAX</th>\n",
              "      <th>PTRATIO</th>\n",
              "      <th>B</th>\n",
              "      <th>LSTAT</th>\n",
              "      <th>TARGET</th>\n",
              "    </tr>\n",
              "  </thead>\n",
              "  <tbody>\n",
              "    <tr>\n",
              "      <th>0</th>\n",
              "      <td>0.00632</td>\n",
              "      <td>18.0</td>\n",
              "      <td>2.31</td>\n",
              "      <td>0.0</td>\n",
              "      <td>0.538</td>\n",
              "      <td>6.575</td>\n",
              "      <td>65.2</td>\n",
              "      <td>4.0900</td>\n",
              "      <td>1.0</td>\n",
              "      <td>296.0</td>\n",
              "      <td>15.3</td>\n",
              "      <td>396.90</td>\n",
              "      <td>4.98</td>\n",
              "      <td>24.0</td>\n",
              "    </tr>\n",
              "    <tr>\n",
              "      <th>1</th>\n",
              "      <td>0.02731</td>\n",
              "      <td>0.0</td>\n",
              "      <td>7.07</td>\n",
              "      <td>0.0</td>\n",
              "      <td>0.469</td>\n",
              "      <td>6.421</td>\n",
              "      <td>78.9</td>\n",
              "      <td>4.9671</td>\n",
              "      <td>2.0</td>\n",
              "      <td>242.0</td>\n",
              "      <td>17.8</td>\n",
              "      <td>396.90</td>\n",
              "      <td>9.14</td>\n",
              "      <td>21.6</td>\n",
              "    </tr>\n",
              "    <tr>\n",
              "      <th>2</th>\n",
              "      <td>0.02729</td>\n",
              "      <td>0.0</td>\n",
              "      <td>7.07</td>\n",
              "      <td>0.0</td>\n",
              "      <td>0.469</td>\n",
              "      <td>7.185</td>\n",
              "      <td>61.1</td>\n",
              "      <td>4.9671</td>\n",
              "      <td>2.0</td>\n",
              "      <td>242.0</td>\n",
              "      <td>17.8</td>\n",
              "      <td>392.83</td>\n",
              "      <td>4.03</td>\n",
              "      <td>34.7</td>\n",
              "    </tr>\n",
              "    <tr>\n",
              "      <th>3</th>\n",
              "      <td>0.03237</td>\n",
              "      <td>0.0</td>\n",
              "      <td>2.18</td>\n",
              "      <td>0.0</td>\n",
              "      <td>0.458</td>\n",
              "      <td>6.998</td>\n",
              "      <td>45.8</td>\n",
              "      <td>6.0622</td>\n",
              "      <td>3.0</td>\n",
              "      <td>222.0</td>\n",
              "      <td>18.7</td>\n",
              "      <td>394.63</td>\n",
              "      <td>2.94</td>\n",
              "      <td>33.4</td>\n",
              "    </tr>\n",
              "    <tr>\n",
              "      <th>4</th>\n",
              "      <td>0.06905</td>\n",
              "      <td>0.0</td>\n",
              "      <td>2.18</td>\n",
              "      <td>0.0</td>\n",
              "      <td>0.458</td>\n",
              "      <td>7.147</td>\n",
              "      <td>54.2</td>\n",
              "      <td>6.0622</td>\n",
              "      <td>3.0</td>\n",
              "      <td>222.0</td>\n",
              "      <td>18.7</td>\n",
              "      <td>396.90</td>\n",
              "      <td>5.33</td>\n",
              "      <td>36.2</td>\n",
              "    </tr>\n",
              "  </tbody>\n",
              "</table>\n",
              "</div>"
            ],
            "text/plain": [
              "      CRIM    ZN  INDUS  CHAS    NOX  ...    TAX  PTRATIO       B  LSTAT  TARGET\n",
              "0  0.00632  18.0   2.31   0.0  0.538  ...  296.0     15.3  396.90   4.98    24.0\n",
              "1  0.02731   0.0   7.07   0.0  0.469  ...  242.0     17.8  396.90   9.14    21.6\n",
              "2  0.02729   0.0   7.07   0.0  0.469  ...  242.0     17.8  392.83   4.03    34.7\n",
              "3  0.03237   0.0   2.18   0.0  0.458  ...  222.0     18.7  394.63   2.94    33.4\n",
              "4  0.06905   0.0   2.18   0.0  0.458  ...  222.0     18.7  396.90   5.33    36.2\n",
              "\n",
              "[5 rows x 14 columns]"
            ]
          },
          "metadata": {
            "tags": []
          },
          "execution_count": 5
        }
      ]
    },
    {
      "cell_type": "code",
      "metadata": {
        "id": "9B8IM2bOe-5P",
        "outputId": "79ad53b3-38d4-4813-a2f6-672b0c58f153",
        "colab": {
          "base_uri": "https://localhost:8080/"
        }
      },
      "source": [
        "# Brif summary of features and types\n",
        "df.info()"
      ],
      "execution_count": 6,
      "outputs": [
        {
          "output_type": "stream",
          "text": [
            "<class 'pandas.core.frame.DataFrame'>\n",
            "RangeIndex: 506 entries, 0 to 505\n",
            "Data columns (total 14 columns):\n",
            " #   Column   Non-Null Count  Dtype  \n",
            "---  ------   --------------  -----  \n",
            " 0   CRIM     506 non-null    float64\n",
            " 1   ZN       506 non-null    float64\n",
            " 2   INDUS    506 non-null    float64\n",
            " 3   CHAS     506 non-null    float64\n",
            " 4   NOX      506 non-null    float64\n",
            " 5   RM       506 non-null    float64\n",
            " 6   AGE      506 non-null    float64\n",
            " 7   DIS      506 non-null    float64\n",
            " 8   RAD      506 non-null    float64\n",
            " 9   TAX      506 non-null    float64\n",
            " 10  PTRATIO  506 non-null    float64\n",
            " 11  B        506 non-null    float64\n",
            " 12  LSTAT    506 non-null    float64\n",
            " 13  TARGET   506 non-null    float64\n",
            "dtypes: float64(14)\n",
            "memory usage: 55.5 KB\n"
          ],
          "name": "stdout"
        }
      ]
    },
    {
      "cell_type": "code",
      "metadata": {
        "id": "ZcrvYXQLfXyB",
        "outputId": "26207451-6f2f-45f8-c6ed-d9e2c7a10ef2",
        "colab": {
          "base_uri": "https://localhost:8080/"
        }
      },
      "source": [
        "df.shape # No of sample in dataset "
      ],
      "execution_count": 7,
      "outputs": [
        {
          "output_type": "execute_result",
          "data": {
            "text/plain": [
              "(506, 14)"
            ]
          },
          "metadata": {
            "tags": []
          },
          "execution_count": 7
        }
      ]
    },
    {
      "cell_type": "code",
      "metadata": {
        "id": "YMBjxe21fe1K",
        "outputId": "d27fd629-6417-4859-872a-71bf7229113c",
        "colab": {
          "base_uri": "https://localhost:8080/",
          "height": 314
        }
      },
      "source": [
        "df.describe() # brif summary to dataset "
      ],
      "execution_count": 10,
      "outputs": [
        {
          "output_type": "execute_result",
          "data": {
            "text/html": [
              "<div>\n",
              "<style scoped>\n",
              "    .dataframe tbody tr th:only-of-type {\n",
              "        vertical-align: middle;\n",
              "    }\n",
              "\n",
              "    .dataframe tbody tr th {\n",
              "        vertical-align: top;\n",
              "    }\n",
              "\n",
              "    .dataframe thead th {\n",
              "        text-align: right;\n",
              "    }\n",
              "</style>\n",
              "<table border=\"1\" class=\"dataframe\">\n",
              "  <thead>\n",
              "    <tr style=\"text-align: right;\">\n",
              "      <th></th>\n",
              "      <th>CRIM</th>\n",
              "      <th>ZN</th>\n",
              "      <th>INDUS</th>\n",
              "      <th>CHAS</th>\n",
              "      <th>NOX</th>\n",
              "      <th>RM</th>\n",
              "      <th>AGE</th>\n",
              "      <th>DIS</th>\n",
              "      <th>RAD</th>\n",
              "      <th>TAX</th>\n",
              "      <th>PTRATIO</th>\n",
              "      <th>B</th>\n",
              "      <th>LSTAT</th>\n",
              "      <th>TARGET</th>\n",
              "    </tr>\n",
              "  </thead>\n",
              "  <tbody>\n",
              "    <tr>\n",
              "      <th>count</th>\n",
              "      <td>506.000000</td>\n",
              "      <td>506.000000</td>\n",
              "      <td>506.000000</td>\n",
              "      <td>506.000000</td>\n",
              "      <td>506.000000</td>\n",
              "      <td>506.000000</td>\n",
              "      <td>506.000000</td>\n",
              "      <td>506.000000</td>\n",
              "      <td>506.000000</td>\n",
              "      <td>506.000000</td>\n",
              "      <td>506.000000</td>\n",
              "      <td>506.000000</td>\n",
              "      <td>506.000000</td>\n",
              "      <td>506.000000</td>\n",
              "    </tr>\n",
              "    <tr>\n",
              "      <th>mean</th>\n",
              "      <td>3.613524</td>\n",
              "      <td>11.363636</td>\n",
              "      <td>11.136779</td>\n",
              "      <td>0.069170</td>\n",
              "      <td>0.554695</td>\n",
              "      <td>6.284634</td>\n",
              "      <td>68.574901</td>\n",
              "      <td>3.795043</td>\n",
              "      <td>9.549407</td>\n",
              "      <td>408.237154</td>\n",
              "      <td>18.455534</td>\n",
              "      <td>356.674032</td>\n",
              "      <td>12.653063</td>\n",
              "      <td>22.532806</td>\n",
              "    </tr>\n",
              "    <tr>\n",
              "      <th>std</th>\n",
              "      <td>8.601545</td>\n",
              "      <td>23.322453</td>\n",
              "      <td>6.860353</td>\n",
              "      <td>0.253994</td>\n",
              "      <td>0.115878</td>\n",
              "      <td>0.702617</td>\n",
              "      <td>28.148861</td>\n",
              "      <td>2.105710</td>\n",
              "      <td>8.707259</td>\n",
              "      <td>168.537116</td>\n",
              "      <td>2.164946</td>\n",
              "      <td>91.294864</td>\n",
              "      <td>7.141062</td>\n",
              "      <td>9.197104</td>\n",
              "    </tr>\n",
              "    <tr>\n",
              "      <th>min</th>\n",
              "      <td>0.006320</td>\n",
              "      <td>0.000000</td>\n",
              "      <td>0.460000</td>\n",
              "      <td>0.000000</td>\n",
              "      <td>0.385000</td>\n",
              "      <td>3.561000</td>\n",
              "      <td>2.900000</td>\n",
              "      <td>1.129600</td>\n",
              "      <td>1.000000</td>\n",
              "      <td>187.000000</td>\n",
              "      <td>12.600000</td>\n",
              "      <td>0.320000</td>\n",
              "      <td>1.730000</td>\n",
              "      <td>5.000000</td>\n",
              "    </tr>\n",
              "    <tr>\n",
              "      <th>25%</th>\n",
              "      <td>0.082045</td>\n",
              "      <td>0.000000</td>\n",
              "      <td>5.190000</td>\n",
              "      <td>0.000000</td>\n",
              "      <td>0.449000</td>\n",
              "      <td>5.885500</td>\n",
              "      <td>45.025000</td>\n",
              "      <td>2.100175</td>\n",
              "      <td>4.000000</td>\n",
              "      <td>279.000000</td>\n",
              "      <td>17.400000</td>\n",
              "      <td>375.377500</td>\n",
              "      <td>6.950000</td>\n",
              "      <td>17.025000</td>\n",
              "    </tr>\n",
              "    <tr>\n",
              "      <th>50%</th>\n",
              "      <td>0.256510</td>\n",
              "      <td>0.000000</td>\n",
              "      <td>9.690000</td>\n",
              "      <td>0.000000</td>\n",
              "      <td>0.538000</td>\n",
              "      <td>6.208500</td>\n",
              "      <td>77.500000</td>\n",
              "      <td>3.207450</td>\n",
              "      <td>5.000000</td>\n",
              "      <td>330.000000</td>\n",
              "      <td>19.050000</td>\n",
              "      <td>391.440000</td>\n",
              "      <td>11.360000</td>\n",
              "      <td>21.200000</td>\n",
              "    </tr>\n",
              "    <tr>\n",
              "      <th>75%</th>\n",
              "      <td>3.677083</td>\n",
              "      <td>12.500000</td>\n",
              "      <td>18.100000</td>\n",
              "      <td>0.000000</td>\n",
              "      <td>0.624000</td>\n",
              "      <td>6.623500</td>\n",
              "      <td>94.075000</td>\n",
              "      <td>5.188425</td>\n",
              "      <td>24.000000</td>\n",
              "      <td>666.000000</td>\n",
              "      <td>20.200000</td>\n",
              "      <td>396.225000</td>\n",
              "      <td>16.955000</td>\n",
              "      <td>25.000000</td>\n",
              "    </tr>\n",
              "    <tr>\n",
              "      <th>max</th>\n",
              "      <td>88.976200</td>\n",
              "      <td>100.000000</td>\n",
              "      <td>27.740000</td>\n",
              "      <td>1.000000</td>\n",
              "      <td>0.871000</td>\n",
              "      <td>8.780000</td>\n",
              "      <td>100.000000</td>\n",
              "      <td>12.126500</td>\n",
              "      <td>24.000000</td>\n",
              "      <td>711.000000</td>\n",
              "      <td>22.000000</td>\n",
              "      <td>396.900000</td>\n",
              "      <td>37.970000</td>\n",
              "      <td>50.000000</td>\n",
              "    </tr>\n",
              "  </tbody>\n",
              "</table>\n",
              "</div>"
            ],
            "text/plain": [
              "             CRIM          ZN       INDUS  ...           B       LSTAT      TARGET\n",
              "count  506.000000  506.000000  506.000000  ...  506.000000  506.000000  506.000000\n",
              "mean     3.613524   11.363636   11.136779  ...  356.674032   12.653063   22.532806\n",
              "std      8.601545   23.322453    6.860353  ...   91.294864    7.141062    9.197104\n",
              "min      0.006320    0.000000    0.460000  ...    0.320000    1.730000    5.000000\n",
              "25%      0.082045    0.000000    5.190000  ...  375.377500    6.950000   17.025000\n",
              "50%      0.256510    0.000000    9.690000  ...  391.440000   11.360000   21.200000\n",
              "75%      3.677083   12.500000   18.100000  ...  396.225000   16.955000   25.000000\n",
              "max     88.976200  100.000000   27.740000  ...  396.900000   37.970000   50.000000\n",
              "\n",
              "[8 rows x 14 columns]"
            ]
          },
          "metadata": {
            "tags": []
          },
          "execution_count": 10
        }
      ]
    },
    {
      "cell_type": "markdown",
      "metadata": {
        "id": "eyiipTSQgFIV"
      },
      "source": [
        " what we have done so far is called EDA(Exploratory Data Analysis) also called the preprocessing , we have not covered in detail."
      ]
    },
    {
      "cell_type": "markdown",
      "metadata": {
        "id": "sZiob6AfgsWZ"
      },
      "source": [
        "# Seperation of dataset into train and test"
      ]
    },
    {
      "cell_type": "code",
      "metadata": {
        "id": "P659PzTjg73p"
      },
      "source": [
        "# seprating features and target\n",
        "X = df.drop(\"TARGET\",axis=1)   #Feature Matrix\n",
        "y = df[\"TARGET\"]"
      ],
      "execution_count": 12,
      "outputs": []
    },
    {
      "cell_type": "code",
      "metadata": {
        "id": "Inz25Y5LfiBA",
        "outputId": "4d2eac92-1c93-4c0f-f2ea-278dcb9ea324",
        "colab": {
          "base_uri": "https://localhost:8080/"
        }
      },
      "source": [
        "from sklearn.model_selection import train_test_split\n",
        "X_train, X_test, y_train, y_test = train_test_split(\n",
        "    X,\n",
        "    y,\n",
        "    test_size=0.3,\n",
        "    random_state=100)\n",
        "\n",
        "X_train.shape, X_test.shape"
      ],
      "execution_count": 13,
      "outputs": [
        {
          "output_type": "execute_result",
          "data": {
            "text/plain": [
              "((354, 13), (152, 13))"
            ]
          },
          "metadata": {
            "tags": []
          },
          "execution_count": 13
        }
      ]
    },
    {
      "cell_type": "code",
      "metadata": {
        "id": "DcPB7j-shjcg",
        "outputId": "2e1e70e4-4a37-4d61-98f5-012160745272",
        "colab": {
          "base_uri": "https://localhost:8080/",
          "height": 447
        }
      },
      "source": [
        "# corelation of features on X_train\n",
        "\n",
        "X_train.corr()"
      ],
      "execution_count": 14,
      "outputs": [
        {
          "output_type": "execute_result",
          "data": {
            "text/html": [
              "<div>\n",
              "<style scoped>\n",
              "    .dataframe tbody tr th:only-of-type {\n",
              "        vertical-align: middle;\n",
              "    }\n",
              "\n",
              "    .dataframe tbody tr th {\n",
              "        vertical-align: top;\n",
              "    }\n",
              "\n",
              "    .dataframe thead th {\n",
              "        text-align: right;\n",
              "    }\n",
              "</style>\n",
              "<table border=\"1\" class=\"dataframe\">\n",
              "  <thead>\n",
              "    <tr style=\"text-align: right;\">\n",
              "      <th></th>\n",
              "      <th>CRIM</th>\n",
              "      <th>ZN</th>\n",
              "      <th>INDUS</th>\n",
              "      <th>CHAS</th>\n",
              "      <th>NOX</th>\n",
              "      <th>RM</th>\n",
              "      <th>AGE</th>\n",
              "      <th>DIS</th>\n",
              "      <th>RAD</th>\n",
              "      <th>TAX</th>\n",
              "      <th>PTRATIO</th>\n",
              "      <th>B</th>\n",
              "      <th>LSTAT</th>\n",
              "    </tr>\n",
              "  </thead>\n",
              "  <tbody>\n",
              "    <tr>\n",
              "      <th>CRIM</th>\n",
              "      <td>1.000000</td>\n",
              "      <td>-0.208449</td>\n",
              "      <td>0.429983</td>\n",
              "      <td>-0.050889</td>\n",
              "      <td>0.448920</td>\n",
              "      <td>-0.281843</td>\n",
              "      <td>0.380527</td>\n",
              "      <td>-0.396820</td>\n",
              "      <td>0.641012</td>\n",
              "      <td>0.599940</td>\n",
              "      <td>0.296722</td>\n",
              "      <td>-0.402397</td>\n",
              "      <td>0.519112</td>\n",
              "    </tr>\n",
              "    <tr>\n",
              "      <th>ZN</th>\n",
              "      <td>-0.208449</td>\n",
              "      <td>1.000000</td>\n",
              "      <td>-0.523667</td>\n",
              "      <td>-0.018782</td>\n",
              "      <td>-0.513734</td>\n",
              "      <td>0.300274</td>\n",
              "      <td>-0.578906</td>\n",
              "      <td>0.637188</td>\n",
              "      <td>-0.319592</td>\n",
              "      <td>-0.317453</td>\n",
              "      <td>-0.384091</td>\n",
              "      <td>0.178464</td>\n",
              "      <td>-0.411961</td>\n",
              "    </tr>\n",
              "    <tr>\n",
              "      <th>INDUS</th>\n",
              "      <td>0.429983</td>\n",
              "      <td>-0.523667</td>\n",
              "      <td>1.000000</td>\n",
              "      <td>0.029596</td>\n",
              "      <td>0.756082</td>\n",
              "      <td>-0.388389</td>\n",
              "      <td>0.630028</td>\n",
              "      <td>-0.694888</td>\n",
              "      <td>0.613884</td>\n",
              "      <td>0.737563</td>\n",
              "      <td>0.402873</td>\n",
              "      <td>-0.358160</td>\n",
              "      <td>0.600731</td>\n",
              "    </tr>\n",
              "    <tr>\n",
              "      <th>CHAS</th>\n",
              "      <td>-0.050889</td>\n",
              "      <td>-0.018782</td>\n",
              "      <td>0.029596</td>\n",
              "      <td>1.000000</td>\n",
              "      <td>0.041073</td>\n",
              "      <td>0.118925</td>\n",
              "      <td>0.063280</td>\n",
              "      <td>-0.073799</td>\n",
              "      <td>0.021043</td>\n",
              "      <td>-0.024427</td>\n",
              "      <td>-0.043804</td>\n",
              "      <td>0.050389</td>\n",
              "      <td>-0.062958</td>\n",
              "    </tr>\n",
              "    <tr>\n",
              "      <th>NOX</th>\n",
              "      <td>0.448920</td>\n",
              "      <td>-0.513734</td>\n",
              "      <td>0.756082</td>\n",
              "      <td>0.041073</td>\n",
              "      <td>1.000000</td>\n",
              "      <td>-0.286439</td>\n",
              "      <td>0.738958</td>\n",
              "      <td>-0.767202</td>\n",
              "      <td>0.630911</td>\n",
              "      <td>0.682250</td>\n",
              "      <td>0.198738</td>\n",
              "      <td>-0.381035</td>\n",
              "      <td>0.579224</td>\n",
              "    </tr>\n",
              "    <tr>\n",
              "      <th>RM</th>\n",
              "      <td>-0.281843</td>\n",
              "      <td>0.300274</td>\n",
              "      <td>-0.388389</td>\n",
              "      <td>0.118925</td>\n",
              "      <td>-0.286439</td>\n",
              "      <td>1.000000</td>\n",
              "      <td>-0.239898</td>\n",
              "      <td>0.196803</td>\n",
              "      <td>-0.206726</td>\n",
              "      <td>-0.283813</td>\n",
              "      <td>-0.326536</td>\n",
              "      <td>0.121983</td>\n",
              "      <td>-0.622520</td>\n",
              "    </tr>\n",
              "    <tr>\n",
              "      <th>AGE</th>\n",
              "      <td>0.380527</td>\n",
              "      <td>-0.578906</td>\n",
              "      <td>0.630028</td>\n",
              "      <td>0.063280</td>\n",
              "      <td>0.738958</td>\n",
              "      <td>-0.239898</td>\n",
              "      <td>1.000000</td>\n",
              "      <td>-0.762691</td>\n",
              "      <td>0.461071</td>\n",
              "      <td>0.500652</td>\n",
              "      <td>0.243816</td>\n",
              "      <td>-0.273663</td>\n",
              "      <td>0.598636</td>\n",
              "    </tr>\n",
              "    <tr>\n",
              "      <th>DIS</th>\n",
              "      <td>-0.396820</td>\n",
              "      <td>0.637188</td>\n",
              "      <td>-0.694888</td>\n",
              "      <td>-0.073799</td>\n",
              "      <td>-0.767202</td>\n",
              "      <td>0.196803</td>\n",
              "      <td>-0.762691</td>\n",
              "      <td>1.000000</td>\n",
              "      <td>-0.503238</td>\n",
              "      <td>-0.534968</td>\n",
              "      <td>-0.222402</td>\n",
              "      <td>0.296842</td>\n",
              "      <td>-0.487847</td>\n",
              "    </tr>\n",
              "    <tr>\n",
              "      <th>RAD</th>\n",
              "      <td>0.641012</td>\n",
              "      <td>-0.319592</td>\n",
              "      <td>0.613884</td>\n",
              "      <td>0.021043</td>\n",
              "      <td>0.630911</td>\n",
              "      <td>-0.206726</td>\n",
              "      <td>0.461071</td>\n",
              "      <td>-0.503238</td>\n",
              "      <td>1.000000</td>\n",
              "      <td>0.913284</td>\n",
              "      <td>0.467481</td>\n",
              "      <td>-0.419700</td>\n",
              "      <td>0.482472</td>\n",
              "    </tr>\n",
              "    <tr>\n",
              "      <th>TAX</th>\n",
              "      <td>0.599940</td>\n",
              "      <td>-0.317453</td>\n",
              "      <td>0.737563</td>\n",
              "      <td>-0.024427</td>\n",
              "      <td>0.682250</td>\n",
              "      <td>-0.283813</td>\n",
              "      <td>0.500652</td>\n",
              "      <td>-0.534968</td>\n",
              "      <td>0.913284</td>\n",
              "      <td>1.000000</td>\n",
              "      <td>0.463642</td>\n",
              "      <td>-0.419114</td>\n",
              "      <td>0.522254</td>\n",
              "    </tr>\n",
              "    <tr>\n",
              "      <th>PTRATIO</th>\n",
              "      <td>0.296722</td>\n",
              "      <td>-0.384091</td>\n",
              "      <td>0.402873</td>\n",
              "      <td>-0.043804</td>\n",
              "      <td>0.198738</td>\n",
              "      <td>-0.326536</td>\n",
              "      <td>0.243816</td>\n",
              "      <td>-0.222402</td>\n",
              "      <td>0.467481</td>\n",
              "      <td>0.463642</td>\n",
              "      <td>1.000000</td>\n",
              "      <td>-0.163575</td>\n",
              "      <td>0.345886</td>\n",
              "    </tr>\n",
              "    <tr>\n",
              "      <th>B</th>\n",
              "      <td>-0.402397</td>\n",
              "      <td>0.178464</td>\n",
              "      <td>-0.358160</td>\n",
              "      <td>0.050389</td>\n",
              "      <td>-0.381035</td>\n",
              "      <td>0.121983</td>\n",
              "      <td>-0.273663</td>\n",
              "      <td>0.296842</td>\n",
              "      <td>-0.419700</td>\n",
              "      <td>-0.419114</td>\n",
              "      <td>-0.163575</td>\n",
              "      <td>1.000000</td>\n",
              "      <td>-0.378934</td>\n",
              "    </tr>\n",
              "    <tr>\n",
              "      <th>LSTAT</th>\n",
              "      <td>0.519112</td>\n",
              "      <td>-0.411961</td>\n",
              "      <td>0.600731</td>\n",
              "      <td>-0.062958</td>\n",
              "      <td>0.579224</td>\n",
              "      <td>-0.622520</td>\n",
              "      <td>0.598636</td>\n",
              "      <td>-0.487847</td>\n",
              "      <td>0.482472</td>\n",
              "      <td>0.522254</td>\n",
              "      <td>0.345886</td>\n",
              "      <td>-0.378934</td>\n",
              "      <td>1.000000</td>\n",
              "    </tr>\n",
              "  </tbody>\n",
              "</table>\n",
              "</div>"
            ],
            "text/plain": [
              "             CRIM        ZN     INDUS  ...   PTRATIO         B     LSTAT\n",
              "CRIM     1.000000 -0.208449  0.429983  ...  0.296722 -0.402397  0.519112\n",
              "ZN      -0.208449  1.000000 -0.523667  ... -0.384091  0.178464 -0.411961\n",
              "INDUS    0.429983 -0.523667  1.000000  ...  0.402873 -0.358160  0.600731\n",
              "CHAS    -0.050889 -0.018782  0.029596  ... -0.043804  0.050389 -0.062958\n",
              "NOX      0.448920 -0.513734  0.756082  ...  0.198738 -0.381035  0.579224\n",
              "RM      -0.281843  0.300274 -0.388389  ... -0.326536  0.121983 -0.622520\n",
              "AGE      0.380527 -0.578906  0.630028  ...  0.243816 -0.273663  0.598636\n",
              "DIS     -0.396820  0.637188 -0.694888  ... -0.222402  0.296842 -0.487847\n",
              "RAD      0.641012 -0.319592  0.613884  ...  0.467481 -0.419700  0.482472\n",
              "TAX      0.599940 -0.317453  0.737563  ...  0.463642 -0.419114  0.522254\n",
              "PTRATIO  0.296722 -0.384091  0.402873  ...  1.000000 -0.163575  0.345886\n",
              "B       -0.402397  0.178464 -0.358160  ... -0.163575  1.000000 -0.378934\n",
              "LSTAT    0.519112 -0.411961  0.600731  ...  0.345886 -0.378934  1.000000\n",
              "\n",
              "[13 rows x 13 columns]"
            ]
          },
          "metadata": {
            "tags": []
          },
          "execution_count": 14
        }
      ]
    },
    {
      "cell_type": "markdown",
      "metadata": {
        "id": "AS9YkpZZm_Oz"
      },
      "source": [
        "Just by using the `corr()` function, you can see the corelation of all the features. by looking at value you can interpret so many things. one thing is to mention over here is that pearson corelation value ranges from -1 to 1. so to make it more visulaze format we use seaborn to plot the corelation."
      ]
    },
    {
      "cell_type": "code",
      "metadata": {
        "id": "dlHA-fnEm8cN",
        "outputId": "49312712-6ef1-483b-8db4-59aa0146c463",
        "colab": {
          "base_uri": "https://localhost:8080/",
          "height": 595
        }
      },
      "source": [
        "import seaborn as sns\n",
        "#Using Pearson Correlation\n",
        "plt.figure(figsize=(10,10))\n",
        "cor = X_train.corr()\n",
        "sns.heatmap(cor, annot=True, cmap=plt.cm.CMRmap_r)\n",
        "# annot =True means , just write the data value in each cell\n",
        "#cmapmatplotlib colormap name or object, or list of colors, optional\n",
        "#The mapping from data values to color space. \n",
        "plt.show()"
      ],
      "execution_count": 28,
      "outputs": [
        {
          "output_type": "display_data",
          "data": {
            "image/png": "[encoded data removed]",
            "text/plain": [
              "<Figure size 720x720 with 2 Axes>"
            ]
          },
          "metadata": {
            "tags": [],
            "needs_background": "light"
          }
        }
      ]
    },
    {
      "cell_type": "markdown",
      "metadata": {
        "id": "oUFW_jwnqpyI"
      },
      "source": [
        "[seaborn heatmap doc](https://seaborn.pydata.org/generated/seaborn.heatmap.html)\n",
        "\n",
        "[cmap linear color args](https://www.cnblogs.com/YingxuanZHANG/p/8808077.html)\n",
        "spend sometime seeing the heatmap we will able to see that while features are highly corelated , let see **TAX** and **RAD** both are highly corelated , means that either one can be drop ,this will not effect on the target feature."
      ]
    },
    {
      "cell_type": "code",
      "metadata": {
        "id": "mHpfYrGOs1bO"
      },
      "source": [
        "# let write a function that take corr matrix and threshold , return the list of feature that have that threshold corealtion\n"
      ],
      "execution_count": null,
      "outputs": []
    },
    {
      "cell_type": "code",
      "metadata": {
        "id": "Lca1QsgZwBPX"
      },
      "source": [
        "\n",
        "# with the following function we can select highly correlated features\n",
        "\n",
        "def correlation(corr_matrix, threshold):\n",
        "    col_corr = set()  # Set of all the names of correlated columns\n",
        "    for i in range(len(corr_matrix.columns)):\n",
        "        for j in range(i):\n",
        "            if abs(corr_matrix.iloc[i, j]) > threshold: # we are interested in absolute coeff value\n",
        "                colname = corr_matrix.columns[i]  # getting the name of column\n",
        "                col_corr.add(colname)\n",
        "    return col_corr"
      ],
      "execution_count": 49,
      "outputs": []
    },
    {
      "cell_type": "code",
      "metadata": {
        "id": "0ngMY1tnwdiR",
        "outputId": "7040bf32-c7c3-4b02-96c0-1effb95d77d0",
        "colab": {
          "base_uri": "https://localhost:8080/"
        }
      },
      "source": [
        "corr_features = correlation(cor, 0.7)\n",
        "len(corr_features)\n",
        "print(corr_features)"
      ],
      "execution_count": 50,
      "outputs": [
        {
          "output_type": "stream",
          "text": [
            "{'DIS', 'TAX', 'NOX', 'AGE'}\n"
          ],
          "name": "stdout"
        }
      ]
    },
    {
      "cell_type": "markdown",
      "metadata": {
        "id": "w_Z4VjKU3bW4"
      },
      "source": [
        "We can drop these feature from the X_train , and also from the X_test without analysing on X_test data set."
      ]
    },
    {
      "cell_type": "code",
      "metadata": {
        "id": "wIzZkgGF3WOq",
        "outputId": "aa3c80f9-2096-45a8-a1c4-3bf1250872d8",
        "colab": {
          "base_uri": "https://localhost:8080/",
          "height": 415
        }
      },
      "source": [
        "\n",
        "X_train.drop(corr_features,axis=1)\n",
        "X_test.drop(corr_features,axis=1)"
      ],
      "execution_count": 51,
      "outputs": [
        {
          "output_type": "execute_result",
          "data": {
            "text/html": [
              "<div>\n",
              "<style scoped>\n",
              "    .dataframe tbody tr th:only-of-type {\n",
              "        vertical-align: middle;\n",
              "    }\n",
              "\n",
              "    .dataframe tbody tr th {\n",
              "        vertical-align: top;\n",
              "    }\n",
              "\n",
              "    .dataframe thead th {\n",
              "        text-align: right;\n",
              "    }\n",
              "</style>\n",
              "<table border=\"1\" class=\"dataframe\">\n",
              "  <thead>\n",
              "    <tr style=\"text-align: right;\">\n",
              "      <th></th>\n",
              "      <th>CRIM</th>\n",
              "      <th>ZN</th>\n",
              "      <th>INDUS</th>\n",
              "      <th>CHAS</th>\n",
              "      <th>RM</th>\n",
              "      <th>RAD</th>\n",
              "      <th>PTRATIO</th>\n",
              "      <th>B</th>\n",
              "      <th>LSTAT</th>\n",
              "    </tr>\n",
              "  </thead>\n",
              "  <tbody>\n",
              "    <tr>\n",
              "      <th>198</th>\n",
              "      <td>0.03768</td>\n",
              "      <td>80.0</td>\n",
              "      <td>1.52</td>\n",
              "      <td>0.0</td>\n",
              "      <td>7.274</td>\n",
              "      <td>2.0</td>\n",
              "      <td>12.6</td>\n",
              "      <td>392.20</td>\n",
              "      <td>6.62</td>\n",
              "    </tr>\n",
              "    <tr>\n",
              "      <th>229</th>\n",
              "      <td>0.44178</td>\n",
              "      <td>0.0</td>\n",
              "      <td>6.20</td>\n",
              "      <td>0.0</td>\n",
              "      <td>6.552</td>\n",
              "      <td>8.0</td>\n",
              "      <td>17.4</td>\n",
              "      <td>380.34</td>\n",
              "      <td>3.76</td>\n",
              "    </tr>\n",
              "    <tr>\n",
              "      <th>502</th>\n",
              "      <td>0.04527</td>\n",
              "      <td>0.0</td>\n",
              "      <td>11.93</td>\n",
              "      <td>0.0</td>\n",
              "      <td>6.120</td>\n",
              "      <td>1.0</td>\n",
              "      <td>21.0</td>\n",
              "      <td>396.90</td>\n",
              "      <td>9.08</td>\n",
              "    </tr>\n",
              "    <tr>\n",
              "      <th>31</th>\n",
              "      <td>1.35472</td>\n",
              "      <td>0.0</td>\n",
              "      <td>8.14</td>\n",
              "      <td>0.0</td>\n",
              "      <td>6.072</td>\n",
              "      <td>4.0</td>\n",
              "      <td>21.0</td>\n",
              "      <td>376.73</td>\n",
              "      <td>13.04</td>\n",
              "    </tr>\n",
              "    <tr>\n",
              "      <th>315</th>\n",
              "      <td>0.25356</td>\n",
              "      <td>0.0</td>\n",
              "      <td>9.90</td>\n",
              "      <td>0.0</td>\n",
              "      <td>5.705</td>\n",
              "      <td>4.0</td>\n",
              "      <td>18.4</td>\n",
              "      <td>396.42</td>\n",
              "      <td>11.50</td>\n",
              "    </tr>\n",
              "    <tr>\n",
              "      <th>...</th>\n",
              "      <td>...</td>\n",
              "      <td>...</td>\n",
              "      <td>...</td>\n",
              "      <td>...</td>\n",
              "      <td>...</td>\n",
              "      <td>...</td>\n",
              "      <td>...</td>\n",
              "      <td>...</td>\n",
              "      <td>...</td>\n",
              "    </tr>\n",
              "    <tr>\n",
              "      <th>272</th>\n",
              "      <td>0.11460</td>\n",
              "      <td>20.0</td>\n",
              "      <td>6.96</td>\n",
              "      <td>0.0</td>\n",
              "      <td>6.538</td>\n",
              "      <td>3.0</td>\n",
              "      <td>18.6</td>\n",
              "      <td>394.96</td>\n",
              "      <td>7.73</td>\n",
              "    </tr>\n",
              "    <tr>\n",
              "      <th>124</th>\n",
              "      <td>0.09849</td>\n",
              "      <td>0.0</td>\n",
              "      <td>25.65</td>\n",
              "      <td>0.0</td>\n",
              "      <td>5.879</td>\n",
              "      <td>2.0</td>\n",
              "      <td>19.1</td>\n",
              "      <td>379.38</td>\n",
              "      <td>17.58</td>\n",
              "    </tr>\n",
              "    <tr>\n",
              "      <th>178</th>\n",
              "      <td>0.06642</td>\n",
              "      <td>0.0</td>\n",
              "      <td>4.05</td>\n",
              "      <td>0.0</td>\n",
              "      <td>6.860</td>\n",
              "      <td>5.0</td>\n",
              "      <td>16.6</td>\n",
              "      <td>391.27</td>\n",
              "      <td>6.92</td>\n",
              "    </tr>\n",
              "    <tr>\n",
              "      <th>447</th>\n",
              "      <td>9.92485</td>\n",
              "      <td>0.0</td>\n",
              "      <td>18.10</td>\n",
              "      <td>0.0</td>\n",
              "      <td>6.251</td>\n",
              "      <td>24.0</td>\n",
              "      <td>20.2</td>\n",
              "      <td>388.52</td>\n",
              "      <td>16.44</td>\n",
              "    </tr>\n",
              "    <tr>\n",
              "      <th>282</th>\n",
              "      <td>0.06129</td>\n",
              "      <td>20.0</td>\n",
              "      <td>3.33</td>\n",
              "      <td>1.0</td>\n",
              "      <td>7.645</td>\n",
              "      <td>5.0</td>\n",
              "      <td>14.9</td>\n",
              "      <td>377.07</td>\n",
              "      <td>3.01</td>\n",
              "    </tr>\n",
              "  </tbody>\n",
              "</table>\n",
              "<p>152 rows × 9 columns</p>\n",
              "</div>"
            ],
            "text/plain": [
              "        CRIM    ZN  INDUS  CHAS     RM   RAD  PTRATIO       B  LSTAT\n",
              "198  0.03768  80.0   1.52   0.0  7.274   2.0     12.6  392.20   6.62\n",
              "229  0.44178   0.0   6.20   0.0  6.552   8.0     17.4  380.34   3.76\n",
              "502  0.04527   0.0  11.93   0.0  6.120   1.0     21.0  396.90   9.08\n",
              "31   1.35472   0.0   8.14   0.0  6.072   4.0     21.0  376.73  13.04\n",
              "315  0.25356   0.0   9.90   0.0  5.705   4.0     18.4  396.42  11.50\n",
              "..       ...   ...    ...   ...    ...   ...      ...     ...    ...\n",
              "272  0.11460  20.0   6.96   0.0  6.538   3.0     18.6  394.96   7.73\n",
              "124  0.09849   0.0  25.65   0.0  5.879   2.0     19.1  379.38  17.58\n",
              "178  0.06642   0.0   4.05   0.0  6.860   5.0     16.6  391.27   6.92\n",
              "447  9.92485   0.0  18.10   0.0  6.251  24.0     20.2  388.52  16.44\n",
              "282  0.06129  20.0   3.33   1.0  7.645   5.0     14.9  377.07   3.01\n",
              "\n",
              "[152 rows x 9 columns]"
            ]
          },
          "metadata": {
            "tags": []
          },
          "execution_count": 51
        }
      ]
    }
  ]
}